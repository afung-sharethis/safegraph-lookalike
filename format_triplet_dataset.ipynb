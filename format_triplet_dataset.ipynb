{
 "cells": [
  {
   "cell_type": "markdown",
   "metadata": {},
   "source": [
    "# Triplet Loss Dataset Formatter\n",
    "\n",
    "Takes a positive and negative dataset and generates a new set in the following triplet form:\n",
    "\n",
    "```{anchor} \\t {positive} \\t {negative}```\n",
    "\n",
    "Currently focused on reading titles from mergelog in the Safegraph-merge data. Can be easily adapted to fit any other positive/negative text sets by changing column names"
   ]
  },
  {
   "cell_type": "markdown",
   "metadata": {},
   "source": [
    "## Setup"
   ]
  },
  {
   "cell_type": "code",
   "execution_count": null,
   "metadata": {},
   "outputs": [],
   "source": [
    "import pandas as pd\n",
    "import numpy as np"
   ]
  },
  {
   "cell_type": "code",
   "execution_count": null,
   "metadata": {},
   "outputs": [],
   "source": [
    "def split_titles(data):\n",
    "    \"\"\" Splits up titles from the same row into their own rows. Titles are separated by commas \"\"\"\n",
    "    new_data = pd.concat([pd.Series(row['titles'].split(',')) for _, row in data.iterrows()]).reset_index()\n",
    "    new_data.columns = ['index', 'titles']\n",
    "    return new_data['titles']"
   ]
  },
  {
   "cell_type": "markdown",
   "metadata": {},
   "source": [
    "## Loading Data\n",
    "\n",
    "Change the datasets in this cell to provide a different positive or negative set"
   ]
  },
  {
   "cell_type": "code",
   "execution_count": null,
   "metadata": {},
   "outputs": [],
   "source": [
    "positive_filename = 'data/safegraph/merge_brands/safegraph_gamestop_raw.csv'\n",
    "negative_filename = 'data/safegraph/merge_brands/safegraph_full_merge_ndomain5.csv'\n",
    "\n",
    "pos_data = pd.read_csv(positive_filename)\n",
    "neg_data = pd.read_csv(negative_filename)"
   ]
  },
  {
   "cell_type": "markdown",
   "metadata": {},
   "source": [
    "## Generate Triplet Examples\n",
    "\n",
    "Generate triplet examples from the provided positive and negative sets, then check the formatting of each row.\n",
    "\n",
    "Titles within the same row of the negative set are split apart, but the same is not done for the positive set. We want to remember the relationship between titles of the same row, and teach that relationship to our model. Thus the `{positive}` and `{anchor}` will be taken from the same row in the positive set."
   ]
  },
  {
   "cell_type": "code",
   "execution_count": null,
   "metadata": {},
   "outputs": [],
   "source": [
    "%%time\n",
    "\n",
    "# Split negatives but not positives\n",
    "pos_titles = pos_data['titles']\n",
    "neg_titles = split_titles(neg_data)\n",
    "\n",
    "N = 100000              # Number of examples to generate\n",
    "batch_size = 100        # df.sample is a bottleneck, do more batches to reduce calls\n",
    "i = 0\n",
    "results = []\n",
    "while i < N:\n",
    "    pos_row = pos_titles.sample(batch_size)\n",
    "    negative = neg_titles.sample(batch_size)\n",
    "    \n",
    "    for j in range(batch_size):\n",
    "        try:\n",
    "            pos_sam = pos_res.iloc[j].split(',')    # Seperate titles within the same positive row\n",
    "            \n",
    "            # Randomly select a postive and anchor from the same row; then a single negative\n",
    "            # Separate each by tabs using the proper formatting\n",
    "            if len(pos_sam) >= 2 and i < N:         # Make sure there are at least two titles in this row\n",
    "                idxs = np.random.choice(len(pos_sam), 2, replace=False)\n",
    "                results.append(\"{0}\\t{1}\\t{2}\".format(pos_sam[idxs[0]], pos_sam[idxs[1]], negative.iloc[j]))\n",
    "                i += 1\n",
    "        except:    # Skip problematic entries (maybe investigate this more?)\n",
    "            1==1"
   ]
  },
  {
   "cell_type": "code",
   "execution_count": null,
   "metadata": {},
   "outputs": [],
   "source": [
    "num_wrong = 0\n",
    "for s in results:\n",
    "    if s.count('\\t') != 2:\n",
    "        num_wrong += 1\n",
    "print(\"Number of incorrectly formatted rows: \", num_wrong)"
   ]
  },
  {
   "cell_type": "markdown",
   "metadata": {},
   "source": [
    "## Save Examples"
   ]
  },
  {
   "cell_type": "code",
   "execution_count": null,
   "metadata": {},
   "outputs": [],
   "source": [
    "filename = 'data/training/gamestop_triplet_test.txt'\n",
    "\n",
    "with open(filename, 'w') as f:\n",
    "    for item in results:\n",
    "        f.write(\"%s\\n\" % item)"
   ]
  }
 ],
 "metadata": {
  "kernelspec": {
   "display_name": "Python 3",
   "language": "python",
   "name": "python3"
  },
  "language_info": {
   "codemirror_mode": {
    "name": "ipython",
    "version": 3
   },
   "file_extension": ".py",
   "mimetype": "text/x-python",
   "name": "python",
   "nbconvert_exporter": "python",
   "pygments_lexer": "ipython3",
   "version": "3.6.9"
  }
 },
 "nbformat": 4,
 "nbformat_minor": 4
}